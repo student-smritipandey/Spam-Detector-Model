{
 "cells": [
  {
   "cell_type": "markdown",
   "id": "738548d9-1fdf-49fb-936e-061ce19b6acd",
   "metadata": {},
   "source": [
    "**Importing libraries**"
   ]
  },
  {
   "cell_type": "code",
   "execution_count": 1,
   "id": "0f4aaa89-bd52-442e-bdf5-9dc27edebf88",
   "metadata": {},
   "outputs": [],
   "source": [
    "import pandas as pd\n",
    "import numpy as np\n",
    "import tensorflow as tf\n",
    "from tensorflow.keras.models import Sequential\n",
    "from tensorflow.keras.layers import Embedding, LSTM, Dense, Dropout, Bidirectional\n",
    "from tensorflow.keras.preprocessing.text import Tokenizer\n",
    "from tensorflow.keras.preprocessing.sequence import pad_sequences\n",
    "from sklearn.model_selection import train_test_split\n",
    "from sklearn.metrics import classification_report, confusion_matrix\n",
    "import matplotlib.pyplot as plt\n",
    "import seaborn as sns\n",
    "import re\n",
    "import nltk\n",
    "from nltk.corpus import stopwords\n",
    "from sklearn.preprocessing import LabelEncoder\n"
   ]
  },
  {
   "cell_type": "markdown",
   "id": "607b6dcb-df2c-4b98-8aa4-a50f07b86628",
   "metadata": {},
   "source": [
    "**Loading Dataset**"
   ]
  },
  {
   "cell_type": "code",
   "execution_count": 2,
   "id": "9a5598b2-5a6c-4a36-b3e3-ac1959cef471",
   "metadata": {},
   "outputs": [],
   "source": [
    "df = pd.read_csv(r\"C:\\Users\\fastf\\Downloads\\sms dataset\\spam.csv\", encoding=\"latin-1\")"
   ]
  },
  {
   "cell_type": "code",
   "execution_count": 3,
   "id": "4abf31c5-041e-4354-98f2-fb247823e16e",
   "metadata": {},
   "outputs": [
    {
     "data": {
      "text/html": [
       "<div>\n",
       "<style scoped>\n",
       "    .dataframe tbody tr th:only-of-type {\n",
       "        vertical-align: middle;\n",
       "    }\n",
       "\n",
       "    .dataframe tbody tr th {\n",
       "        vertical-align: top;\n",
       "    }\n",
       "\n",
       "    .dataframe thead th {\n",
       "        text-align: right;\n",
       "    }\n",
       "</style>\n",
       "<table border=\"1\" class=\"dataframe\">\n",
       "  <thead>\n",
       "    <tr style=\"text-align: right;\">\n",
       "      <th></th>\n",
       "      <th>v1</th>\n",
       "      <th>v2</th>\n",
       "      <th>Unnamed: 2</th>\n",
       "      <th>Unnamed: 3</th>\n",
       "      <th>Unnamed: 4</th>\n",
       "    </tr>\n",
       "  </thead>\n",
       "  <tbody>\n",
       "    <tr>\n",
       "      <th>0</th>\n",
       "      <td>ham</td>\n",
       "      <td>Go until jurong point, crazy.. Available only ...</td>\n",
       "      <td>NaN</td>\n",
       "      <td>NaN</td>\n",
       "      <td>NaN</td>\n",
       "    </tr>\n",
       "    <tr>\n",
       "      <th>1</th>\n",
       "      <td>ham</td>\n",
       "      <td>Ok lar... Joking wif u oni...</td>\n",
       "      <td>NaN</td>\n",
       "      <td>NaN</td>\n",
       "      <td>NaN</td>\n",
       "    </tr>\n",
       "    <tr>\n",
       "      <th>2</th>\n",
       "      <td>spam</td>\n",
       "      <td>Free entry in 2 a wkly comp to win FA Cup fina...</td>\n",
       "      <td>NaN</td>\n",
       "      <td>NaN</td>\n",
       "      <td>NaN</td>\n",
       "    </tr>\n",
       "    <tr>\n",
       "      <th>3</th>\n",
       "      <td>ham</td>\n",
       "      <td>U dun say so early hor... U c already then say...</td>\n",
       "      <td>NaN</td>\n",
       "      <td>NaN</td>\n",
       "      <td>NaN</td>\n",
       "    </tr>\n",
       "    <tr>\n",
       "      <th>4</th>\n",
       "      <td>ham</td>\n",
       "      <td>Nah I don't think he goes to usf, he lives aro...</td>\n",
       "      <td>NaN</td>\n",
       "      <td>NaN</td>\n",
       "      <td>NaN</td>\n",
       "    </tr>\n",
       "  </tbody>\n",
       "</table>\n",
       "</div>"
      ],
      "text/plain": [
       "     v1                                                 v2 Unnamed: 2  \\\n",
       "0   ham  Go until jurong point, crazy.. Available only ...        NaN   \n",
       "1   ham                      Ok lar... Joking wif u oni...        NaN   \n",
       "2  spam  Free entry in 2 a wkly comp to win FA Cup fina...        NaN   \n",
       "3   ham  U dun say so early hor... U c already then say...        NaN   \n",
       "4   ham  Nah I don't think he goes to usf, he lives aro...        NaN   \n",
       "\n",
       "  Unnamed: 3 Unnamed: 4  \n",
       "0        NaN        NaN  \n",
       "1        NaN        NaN  \n",
       "2        NaN        NaN  \n",
       "3        NaN        NaN  \n",
       "4        NaN        NaN  "
      ]
     },
     "execution_count": 3,
     "metadata": {},
     "output_type": "execute_result"
    }
   ],
   "source": [
    "df.head()"
   ]
  },
  {
   "cell_type": "code",
   "execution_count": 4,
   "id": "cf8781a9-8333-464e-82d5-6bba238060e5",
   "metadata": {},
   "outputs": [
    {
     "data": {
      "text/plain": [
       "(5572, 5)"
      ]
     },
     "execution_count": 4,
     "metadata": {},
     "output_type": "execute_result"
    }
   ],
   "source": [
    "df.shape"
   ]
  },
  {
   "cell_type": "code",
   "execution_count": 5,
   "id": "0ad61425-4c83-40d1-85f3-0146983fe3cf",
   "metadata": {},
   "outputs": [
    {
     "data": {
      "text/plain": [
       "Index(['v1', 'v2', 'Unnamed: 2', 'Unnamed: 3', 'Unnamed: 4'], dtype='object')"
      ]
     },
     "execution_count": 5,
     "metadata": {},
     "output_type": "execute_result"
    }
   ],
   "source": [
    "df.columns"
   ]
  },
  {
   "cell_type": "code",
   "execution_count": 6,
   "id": "8169bca7-aa5f-496e-af0e-9eaac9bc2ba4",
   "metadata": {},
   "outputs": [],
   "source": [
    "df = df[['v1', 'v2']]       \n",
    "df.columns = ['label', 'message']   \n"
   ]
  },
  {
   "cell_type": "code",
   "execution_count": 7,
   "id": "5151ed13-5ff4-4693-90f2-d69dd93ec40e",
   "metadata": {},
   "outputs": [
    {
     "name": "stdout",
     "output_type": "stream",
     "text": [
      "label\n",
      "ham     4825\n",
      "spam     747\n",
      "Name: count, dtype: int64\n"
     ]
    }
   ],
   "source": [
    "print(df['label'].value_counts())  "
   ]
  },
  {
   "cell_type": "markdown",
   "id": "d4bc67e1-67f0-4c4f-b43b-0bff15ae3437",
   "metadata": {},
   "source": [
    "**Data visualization**"
   ]
  },
  {
   "cell_type": "code",
   "execution_count": 8,
   "id": "9dad45a9-aee7-4f6d-82ab-402f019cbaaf",
   "metadata": {},
   "outputs": [
    {
     "data": {
      "text/plain": [
       "([<matplotlib.patches.Wedge at 0x26cc6b89430>,\n",
       "  <matplotlib.patches.Wedge at 0x26cc69669c0>],\n",
       " [Text(-0.44971325876899215, -1.0038714981945516, 'ham'),\n",
       "  Text(0.4701548196619535, 1.0495019988302243, 'spam')],\n",
       " [Text(-0.24529814114672294, -0.5475662717424826, '86.6%'),\n",
       "  Text(0.2657396806784954, 0.593196781947518, '13.4%')])"
      ]
     },
     "execution_count": 8,
     "metadata": {},
     "output_type": "execute_result"
    },
    {
     "data": {
      "image/png": "[encoded data removed]",
      "text/plain": [
       "<Figure size 640x480 with 1 Axes>"
      ]
     },
     "metadata": {},
     "output_type": "display_data"
    }
   ],
   "source": [
    "\n",
    "counts = df['label'].value_counts()\n",
    "\n",
    "plt.pie(\n",
    "    counts, \n",
    "    labels=counts.index, \n",
    "    autopct='%1.1f%%', \n",
    "    colors=['skyblue','lightcoral'], \n",
    "    startangle=90,\n",
    "    explode=(0,0.05)  \n",
    ")\n"
   ]
  },
  {
   "cell_type": "code",
   "execution_count": 9,
   "id": "4f72cb68-9eac-4d06-b5cc-9605771d1146",
   "metadata": {},
   "outputs": [
    {
     "name": "stderr",
     "output_type": "stream",
     "text": [
      "C:\\Users\\fastf\\AppData\\Local\\Temp\\ipykernel_11288\\1575302485.py:2: FutureWarning: \n",
      "\n",
      "Passing `palette` without assigning `hue` is deprecated and will be removed in v0.14.0. Assign the `x` variable to `hue` and set `legend=False` for the same effect.\n",
      "\n",
      "  sns.countplot(x='label', data=df, palette=['skyblue','lightcoral'])\n"
     ]
    },
    {
     "data": {
      "image/png": "[encoded data removed]",
      "text/plain": [
       "<Figure size 600x400 with 1 Axes>"
      ]
     },
     "metadata": {},
     "output_type": "display_data"
    }
   ],
   "source": [
    "plt.figure(figsize=(6,4))\n",
    "sns.countplot(x='label', data=df, palette=['skyblue','lightcoral'])\n",
    "plt.title(\"Count of Ham vs Spam Messages\")\n",
    "plt.show()\n"
   ]
  },
  {
   "cell_type": "markdown",
   "id": "33494638-d3f2-42d7-87d1-1359f804cb47",
   "metadata": {},
   "source": [
    "**Data preprocessing**"
   ]
  },
  {
   "cell_type": "code",
   "execution_count": 10,
   "id": "daf34158-19de-44e6-8f22-5f66fd5087cd",
   "metadata": {},
   "outputs": [],
   "source": [
    "# Text cleaning"
   ]
  },
  {
   "cell_type": "code",
   "execution_count": 11,
   "id": "bb0a8c8c-e3b0-408f-887f-dd0cae2441aa",
   "metadata": {},
   "outputs": [],
   "source": [
    "def clean_text(text):\n",
    "    text = text.lower()\n",
    "    text = re.sub(r'[^a-z\\s]', '', text)\n",
    "    text = re.sub(r'\\s+', ' ', text).strip()\n",
    "    return text\n"
   ]
  },
  {
   "cell_type": "code",
   "execution_count": 12,
   "id": "0965fa83-1301-4b49-b2c2-8f4253b59401",
   "metadata": {},
   "outputs": [],
   "source": [
    "df['cleaned_message'] = df['message'].apply(clean_text)\n"
   ]
  },
  {
   "cell_type": "code",
   "execution_count": 13,
   "id": "0542ac72-d5b3-48ef-8a33-2759e6efae4f",
   "metadata": {},
   "outputs": [],
   "source": [
    "#Stopwords removal"
   ]
  },
  {
   "cell_type": "code",
   "execution_count": 14,
   "id": "3512f967-6cfb-496f-b902-eed8100f9173",
   "metadata": {},
   "outputs": [
    {
     "name": "stderr",
     "output_type": "stream",
     "text": [
      "[nltk_data] Downloading package stopwords to\n",
      "[nltk_data]     C:\\Users\\fastf\\AppData\\Roaming\\nltk_data...\n",
      "[nltk_data]   Package stopwords is already up-to-date!\n"
     ]
    }
   ],
   "source": [
    "nltk.download('stopwords')\n",
    "stop_words = set(stopwords.words('english'))"
   ]
  },
  {
   "cell_type": "code",
   "execution_count": 15,
   "id": "179704e1-3931-4ad9-9cf2-c17cb6f9b0c0",
   "metadata": {},
   "outputs": [],
   "source": [
    "def remove_stopwords(text):\n",
    "    words = text.split()                      \n",
    "    words = [word for word in words if word not in stop_words]  \n",
    "    return ' '.join(words)                   \n"
   ]
  },
  {
   "cell_type": "code",
   "execution_count": 16,
   "id": "f5eda51a-4395-4649-b90a-e2ed2c938253",
   "metadata": {},
   "outputs": [],
   "source": [
    "#Tokenization"
   ]
  },
  {
   "cell_type": "code",
   "execution_count": 17,
   "id": "ea59eaa0-0638-4323-803a-789b87db03f3",
   "metadata": {},
   "outputs": [],
   "source": [
    "tokenizer = Tokenizer(num_words=5000, oov_token=\"<OOV>\")\n",
    "tokenizer.fit_on_texts(df['cleaned_message'])\n",
    "sequences = tokenizer.texts_to_sequences(df['cleaned_message'])\n",
    "X = pad_sequences(sequences, maxlen=100, padding='post')\n"
   ]
  },
  {
   "cell_type": "code",
   "execution_count": 18,
   "id": "7e332198-dd4a-4a59-abe7-3f0ae6d31e14",
   "metadata": {},
   "outputs": [],
   "source": [
    "#Label encoding"
   ]
  },
  {
   "cell_type": "code",
   "execution_count": 19,
   "id": "ed3bfc43-505b-47f2-980f-16643e7b4adc",
   "metadata": {},
   "outputs": [],
   "source": [
    "le = LabelEncoder()\n",
    "y = le.fit_transform(df['label'])"
   ]
  },
  {
   "cell_type": "markdown",
   "id": "1de96a95-45ec-4c21-8290-be69f4c16b00",
   "metadata": {},
   "source": [
    "**Train test split**"
   ]
  },
  {
   "cell_type": "code",
   "execution_count": 20,
   "id": "e459ffc8-12d9-46f1-8c1a-3e48e8ff5ffb",
   "metadata": {},
   "outputs": [],
   "source": [
    "X_train, X_test, y_train, y_test = train_test_split(X, y, test_size=0.2, random_state=42)"
   ]
  },
  {
   "cell_type": "markdown",
   "id": "8ecb919a-f92f-46d0-aee9-3eb17a7cd9bb",
   "metadata": {},
   "source": [
    "**Building the model**"
   ]
  },
  {
   "cell_type": "code",
   "execution_count": 21,
   "id": "5360429d-ae84-4c87-9f6d-fb340d7aef4e",
   "metadata": {},
   "outputs": [
    {
     "name": "stderr",
     "output_type": "stream",
     "text": [
      "C:\\Users\\fastf\\AppData\\Roaming\\Python\\Python312\\site-packages\\keras\\src\\layers\\core\\embedding.py:97: UserWarning: Argument `input_length` is deprecated. Just remove it.\n",
      "  warnings.warn(\n"
     ]
    }
   ],
   "source": [
    "model = Sequential([\n",
    "    Embedding(input_dim=5000, output_dim=128, input_length=100),\n",
    "    Bidirectional(LSTM(64, return_sequences=False)),\n",
    "    Dropout(0.5),\n",
    "    Dense(32, activation='relu'),\n",
    "    Dense(1, activation='sigmoid')  \n",
    "])\n",
    "\n",
    "model.compile(loss='binary_crossentropy', optimizer='adam', metrics=['accuracy'])"
   ]
  },
  {
   "cell_type": "code",
   "execution_count": 22,
   "id": "309cedd8-a95f-4f1b-b9db-60a807b40272",
   "metadata": {},
   "outputs": [
    {
     "name": "stdout",
     "output_type": "stream",
     "text": [
      "Epoch 1/5\n",
      "\u001b[1m70/70\u001b[0m \u001b[32m━━━━━━━━━━━━━━━━━━━━\u001b[0m\u001b[37m\u001b[0m \u001b[1m16s\u001b[0m 144ms/step - accuracy: 0.8438 - loss: 0.3923 - val_accuracy: 0.9758 - val_loss: 0.0900\n",
      "Epoch 2/5\n",
      "\u001b[1m70/70\u001b[0m \u001b[32m━━━━━━━━━━━━━━━━━━━━\u001b[0m\u001b[37m\u001b[0m \u001b[1m9s\u001b[0m 126ms/step - accuracy: 0.9831 - loss: 0.0587 - val_accuracy: 0.9830 - val_loss: 0.0714\n",
      "Epoch 3/5\n",
      "\u001b[1m70/70\u001b[0m \u001b[32m━━━━━━━━━━━━━━━━━━━━\u001b[0m\u001b[37m\u001b[0m \u001b[1m9s\u001b[0m 127ms/step - accuracy: 0.9947 - loss: 0.0211 - val_accuracy: 0.9821 - val_loss: 0.0780\n",
      "Epoch 4/5\n",
      "\u001b[1m70/70\u001b[0m \u001b[32m━━━━━━━━━━━━━━━━━━━━\u001b[0m\u001b[37m\u001b[0m \u001b[1m9s\u001b[0m 128ms/step - accuracy: 0.9957 - loss: 0.0123 - val_accuracy: 0.9812 - val_loss: 0.0999\n",
      "Epoch 5/5\n",
      "\u001b[1m70/70\u001b[0m \u001b[32m━━━━━━━━━━━━━━━━━━━━\u001b[0m\u001b[37m\u001b[0m \u001b[1m9s\u001b[0m 133ms/step - accuracy: 0.9985 - loss: 0.0057 - val_accuracy: 0.9794 - val_loss: 0.1043\n"
     ]
    }
   ],
   "source": [
    "history = model.fit(X_train, y_train, validation_data=(X_test, y_test), \n",
    "                    epochs=5, batch_size=64, verbose=1)\n"
   ]
  },
  {
   "cell_type": "markdown",
   "id": "80b4d02b-5d47-4bd5-89af-a609a137b76b",
   "metadata": {},
   "source": [
    "**Evaluating the model**"
   ]
  },
  {
   "cell_type": "code",
   "execution_count": 23,
   "id": "616930a7-ad28-46a8-8bdb-2b8883b99a92",
   "metadata": {},
   "outputs": [
    {
     "name": "stdout",
     "output_type": "stream",
     "text": [
      "\u001b[1m35/35\u001b[0m \u001b[32m━━━━━━━━━━━━━━━━━━━━\u001b[0m\u001b[37m\u001b[0m \u001b[1m1s\u001b[0m 31ms/step - accuracy: 0.9787 - loss: 0.0956\n",
      "Test Accuracy: 0.98\n"
     ]
    }
   ],
   "source": [
    "loss, acc = model.evaluate(X_test, y_test)\n",
    "print(f\"Test Accuracy: {acc:.2f}\")\n"
   ]
  },
  {
   "cell_type": "markdown",
   "id": "0a3df77a-c7b0-4e3a-acdc-5f4451ba3727",
   "metadata": {},
   "source": [
    "**Model evaluation**"
   ]
  },
  {
   "cell_type": "code",
   "execution_count": 24,
   "id": "5a532356-dc6a-4205-97a1-913e8e76a2d4",
   "metadata": {},
   "outputs": [
    {
     "name": "stdout",
     "output_type": "stream",
     "text": [
      "\u001b[1m35/35\u001b[0m \u001b[32m━━━━━━━━━━━━━━━━━━━━\u001b[0m\u001b[37m\u001b[0m \u001b[1m2s\u001b[0m 42ms/step\n",
      "              precision    recall  f1-score   support\n",
      "\n",
      "         Ham       0.98      0.99      0.99       965\n",
      "        Spam       0.94      0.90      0.92       150\n",
      "\n",
      "    accuracy                           0.98      1115\n",
      "   macro avg       0.96      0.95      0.95      1115\n",
      "weighted avg       0.98      0.98      0.98      1115\n",
      "\n"
     ]
    },
    {
     "data": {
      "image/png": "[encoded data removed]",
      "text/plain": [
       "<Figure size 640x480 with 2 Axes>"
      ]
     },
     "metadata": {},
     "output_type": "display_data"
    }
   ],
   "source": [
    "y_pred = (model.predict(X_test) > 0.5).astype(\"int32\")\n",
    "\n",
    "print(classification_report(y_test, y_pred, target_names=['Ham','Spam']))\n",
    "\n",
    "cm = confusion_matrix(y_test, y_pred)\n",
    "sns.heatmap(cm, annot=True, fmt=\"d\", cmap=\"Blues\", xticklabels=['Ham','Spam'], yticklabels=['Ham','Spam'])\n",
    "plt.title(\"Confusion Matrix\")\n",
    "plt.show()\n"
   ]
  },
  {
   "cell_type": "code",
   "execution_count": 25,
   "id": "183ab565-6b68-4b9d-ab43-51cabb4fa15d",
   "metadata": {},
   "outputs": [
    {
     "name": "stderr",
     "output_type": "stream",
     "text": [
      "WARNING:absl:You are saving your model as an HDF5 file via `model.save()` or `keras.saving.save_model(model)`. This file format is considered legacy. We recommend using instead the native Keras format, e.g. `model.save('my_model.keras')` or `keras.saving.save_model(model, 'my_model.keras')`. \n"
     ]
    }
   ],
   "source": [
    "model.save(\"spam_classifier.h5\")\n"
   ]
  },
  {
   "cell_type": "markdown",
   "id": "2e0a0139-f428-4c68-af13-7c40e799dd9e",
   "metadata": {},
   "source": [
    "**Prediction on new messages**"
   ]
  },
  {
   "cell_type": "code",
   "execution_count": 26,
   "id": "fdae9abc-338b-4463-a519-38e8a7c220af",
   "metadata": {},
   "outputs": [
    {
     "name": "stdout",
     "output_type": "stream",
     "text": [
      "Ham (Spam prob: 0.0000, Ham prob: 1.0000, Confidence: 100.00%)\n",
      "Spam (Spam prob: 1.0000, Ham prob: 0.0000, Confidence: 100.00%)\n"
     ]
    }
   ],
   "source": [
    "def predict_message(msg, threshold=0.5):\n",
    "    \n",
    "    seq = tokenizer.texts_to_sequences([msg])\n",
    "    padded = pad_sequences(seq, maxlen=100, padding='post')\n",
    "\n",
    "    \n",
    "    spam_prob = float(model.predict(padded, verbose=0)[0][0])  \n",
    "\n",
    "   \n",
    "    label = \"Spam\" if spam_prob > threshold else \"Ham\"\n",
    "\n",
    "    \n",
    "    confidence = spam_prob if label == \"Spam\" else 1 - spam_prob\n",
    "\n",
    "    \n",
    "    return f\"{label} (Spam prob: {spam_prob:.4f}, Ham prob: {1-spam_prob:.4f}, Confidence: {confidence*100:.2f}%)\"\n",
    "\n",
    "\n",
    "\n",
    "print(predict_message(\"Ok lar... Joking wif u oni...\"))\n",
    "print(predict_message(\"SIX chances to win CASH! From 100 to 20,000 pounds txt> CSH11 and send to 87575. Cost 150p/day, 6days, 16+ TsandCs apply Reply HL 4 info\"))\n"
   ]
  },
  {
   "cell_type": "markdown",
   "id": "5aa8d9ef-6ba7-4803-bbbe-80dc0bd06fb9",
   "metadata": {},
   "source": [
    "**Visualizing the model**"
   ]
  },
  {
   "cell_type": "code",
   "execution_count": 27,
   "id": "9ff69096-dcc1-439d-8662-d033da9f23c5",
   "metadata": {},
   "outputs": [
    {
     "data": {
      "image/png": "[encoded data removed]",
      "text/plain": [
       "<Figure size 640x480 with 1 Axes>"
      ]
     },
     "metadata": {},
     "output_type": "display_data"
    }
   ],
   "source": [
    "\n",
    "plt.plot(history.history['accuracy'], label='Train Accuracy')\n",
    "plt.plot(history.history['val_accuracy'], label='Val Accuracy')\n",
    "plt.title('Model Accuracy')\n",
    "plt.xlabel('Epochs')\n",
    "plt.ylabel('Accuracy')\n",
    "plt.legend()\n",
    "plt.show()\n",
    "\n",
    "\n"
   ]
  },
  {
   "cell_type": "code",
   "execution_count": 28,
   "id": "cc3998aa-0c74-4442-90ed-764e27ca2955",
   "metadata": {},
   "outputs": [
    {
     "data": {
      "image/png": "[encoded data removed]",
      "text/plain": [
       "<Figure size 640x480 with 1 Axes>"
      ]
     },
     "metadata": {},
     "output_type": "display_data"
    }
   ],
   "source": [
    "\n",
    "plt.plot(history.history['loss'], label='Train Loss')\n",
    "plt.plot(history.history['val_loss'], label='Val Loss')\n",
    "plt.title('Model Loss')\n",
    "plt.xlabel('Epochs')\n",
    "plt.ylabel('Loss')\n",
    "plt.legend()\n",
    "plt.show()"
   ]
  },
  {
   "cell_type": "code",
   "execution_count": 30,
   "id": "1535e199-0006-42ec-8dd4-87941e2742c4",
   "metadata": {},
   "outputs": [],
   "source": [
    "import pickle\n",
    "\n",
    "\n",
    "with open(\"tokenizer.pkl\", \"wb\") as f:\n",
    "    pickle.dump(tokenizer, f)\n"
   ]
  },
  {
   "cell_type": "markdown",
   "id": "7558fc7b-0c73-4424-8830-a8bc4aff7fba",
   "metadata": {},
   "source": [
    "**Save this as app.py**"
   ]
  },
  {
   "cell_type": "code",
   "execution_count": 4,
   "id": "dc4112ef-c4b9-46dc-ab39-613ea2dc3f44",
   "metadata": {},
   "outputs": [],
   "source": [
    "import streamlit as st\n",
    "import tensorflow as tf\n",
    "import pickle\n",
    "from tensorflow.keras.preprocessing.sequence import pad_sequences\n",
    "\n",
    "# Load model\n",
    "model = tf.keras.models.load_model(\"spam_classifier.h5\", compile=False)\n",
    "\n",
    "# Load tokenizer\n",
    "with open(\"tokenizer.pkl\", \"rb\") as f:\n",
    "    tokenizer = pickle.load(f)\n",
    "\n",
    "# Max sequence length (should be same as used in training)\n",
    "MAX_LEN = 100  \n",
    "\n",
    "st.title(\"📧 Spam Message Detector\")\n",
    "\n",
    "# User input\n",
    "message = st.text_area(\"Enter a message:\")\n",
    "\n",
    "if st.button(\"Predict\"):\n",
    "    if message.strip() != \"\":\n",
    "        # Convert message to sequence\n",
    "        seq = tokenizer.texts_to_sequences([message])\n",
    "        padded = pad_sequences(seq, maxlen=MAX_LEN, padding=\"post\", truncating=\"post\")\n",
    "\n",
    "        # Predict\n",
    "        prediction = model.predict(padded)\n",
    "        prob = float(prediction[0][0])\n",
    "\n",
    "        if prob > 0.5:\n",
    "            st.error(f\"🚨 Spam detected! (Confidence: {prob:.2f})\")\n",
    "        else:\n",
    "            st.success(f\"✅ Ham (Not Spam) (Confidence: {1-prob:.2f})\")\n",
    "    else:\n",
    "        st.warning(\"Please enter a message before predicting.\")\n"
   ]
  },
  {
   "cell_type": "code",
   "execution_count": null,
   "id": "db3e8012-b5b3-4184-9a9e-ae0ac18f4433",
   "metadata": {},
   "outputs": [],
   "source": []
  }
 ],
 "metadata": {
  "kernelspec": {
   "display_name": "Python 3 (ipykernel)",
   "language": "python",
   "name": "python3"
  },
  "language_info": {
   "codemirror_mode": {
    "name": "ipython",
    "version": 3
   },
   "file_extension": ".py",
   "mimetype": "text/x-python",
   "name": "python",
   "nbconvert_exporter": "python",
   "pygments_lexer": "ipython3",
   "version": "3.12.7"
  }
 },
 "nbformat": 4,
 "nbformat_minor": 5
}
